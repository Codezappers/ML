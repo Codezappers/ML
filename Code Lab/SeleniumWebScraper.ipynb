{
 "cells": [
  {
   "cell_type": "code",
   "execution_count": 11,
   "metadata": {},
   "outputs": [
    {
     "name": "stdout",
     "output_type": "stream",
     "text": [
      "Column Headers:\n",
      "['Geography', 'Canada (map)', 'Products and product groups3, 4', 'April 2024', 'May 2024', 'June 2024', 'July 2024', 'August 2024', '', '2002=100', 'All-items', 'Food5', 'Shelter6', 'Household operations, furnishings and equipment', 'Clothing and footwear', 'Transportation', 'Gasoline', 'Health and personal care', 'Recreation, education and reading', 'Alcoholic beverages, tobacco products and recreational cannabis', 'All-items excluding food and energy7', 'All-items excluding energy7', 'Energy7', 'Goods8', 'Services9']\n",
      "\n",
      "Row Data:\n",
      "[['160.6', '161.5', '161.4', '162.1', '161.8'], ['187.4', '189.0', '190.0', '190.5', '190.3'], ['180.8', '181.5', '182.1', '182.5', '183.3'], ['130.9', '131.0', '131.0', '131.7', '131.2'], ['95.0', '95.0', '93.2', '92.6', '92.0'], ['173.8', '173.9', '173.6', '175.9', '173.5'], ['246.3', '243.2', '235.7', '241.4', '235.2'], ['150.0', '151.2', '150.8', '150.8', '151.1'], ['126.6', '129.5', '127.6', '129.1', '128.0'], ['195.9', '196.4', '196.5', '196.4', '197.9'], ['150.5', '151.4', '151.4', '152.0', '151.8'], ['156.6', '157.7', '157.8', '158.5', '158.3'], ['215.2', '212.8', '208.3', '211.6', '208.2'], ['145.4', '145.5', '144.8', '145.1', '144.6'], ['175.5', '177.2', '177.6', '178.8', '178.6']]\n",
      "Data has been successfully saved to the table_data.csv file\n"
     ]
    }
   ],
   "source": [
    "from selenium import webdriver\n",
    "from selenium.webdriver.chrome.service import Service\n",
    "from bs4 import BeautifulSoup\n",
    "import csv\n",
    "\n",
    "driver = webdriver.Chrome()\n",
    "\n",
    "# Specify the url\n",
    "page_url = \"https://www150.statcan.gc.ca/t1/tbl1/en/tv.action?pid=1810000401\"\n",
    "\n",
    "driver.get(page_url)\n",
    "\n",
    "# Wait for the page to load\n",
    "driver.implicitly_wait(10)\n",
    "\n",
    "# Get the page source after the Javascript execution \n",
    "page_source = driver.page_source\n",
    "\n",
    "# Parsing the HTML document \n",
    "soup = BeautifulSoup(page_source, 'html.parser')\n",
    "\n",
    "# Find the table element\n",
    "table = soup.find('table', class_ = 'pub-table')\n",
    "\n",
    "if table:\n",
    "    # Extract the column header using list Comprehension\n",
    "    headers = [th.get_text().strip() for th in table.find_all('th')]\n",
    "\n",
    "    # Extract the row data\n",
    "    rows = []\n",
    "    for tr in table.find_all('tr'):\n",
    "        row = [td.get_text().strip() for td in tr.find_all('td')]\n",
    "        if row:\n",
    "            rows.append(row)\n",
    "\n",
    "    # Print the column headers \n",
    "    print(\"Column Headers:\")\n",
    "    print(headers)\n",
    "\n",
    "    # Print the column headers\n",
    "    print(\"\\nRow Data:\")\n",
    "    print(rows)\n",
    "\n",
    "    # New set of headers inside a tuple\n",
    "    headers_tuple = tuple(headers)\n",
    "\n",
    "    # Write the data to a CSV file\n",
    "    with open('table_data.csv', 'w', newline= \"\") as csvfile:\n",
    "        writer = csv.writer(csvfile)\n",
    "\n",
    "        # Insert the new column as the first column in each row\n",
    "        for i, row in enumerate(rows):\n",
    "            rows[i] = [headers_tuple[i]] + row\n",
    "\n",
    "        # Write headers \n",
    "        writer.writerow(headers[2:8])\n",
    "\n",
    "        # Writing rows\n",
    "        writer.writerows(rows)\n",
    "\n",
    "        print(\"Data has been successfully saved to the table_data.csv file\")\n",
    "else:\n",
    "    print(\"Table not found\")\n",
    "\n",
    "# Close the webDriver\n",
    "driver.quit()"
   ]
  }
 ],
 "metadata": {
  "kernelspec": {
   "display_name": "Python 3",
   "language": "python",
   "name": "python3"
  },
  "language_info": {
   "codemirror_mode": {
    "name": "ipython",
    "version": 3
   },
   "file_extension": ".py",
   "mimetype": "text/x-python",
   "name": "python",
   "nbconvert_exporter": "python",
   "pygments_lexer": "ipython3",
   "version": "3.12.6"
  }
 },
 "nbformat": 4,
 "nbformat_minor": 2
}
